{
 "cells": [
  {
   "cell_type": "markdown",
   "metadata": {
    "collapsed": true
   },
   "source": [
    "# INTRODUCTION TO JULIA: Reads** like Python, has** C speed and LISP macros"
   ]
  },
  {
   "cell_type": "markdown",
   "metadata": {},
   "source": [
    "## Setup\n",
    "\n",
    "+ Ubuntu package \n",
    "+ [Download](http://julialang.org/downloads/) binaries (all platforms)\n",
    "+ Build from source code\n",
    "```\n",
    "git clone https://github.com/JuliaLang/julia.git\n",
    "cd julia\n",
    "make -j 4\n",
    "```\n",
    "+ Try Julia in your browser via [JuliaBox](https://www.juliabox.org/). No installation but Google account required"
   ]
  },
  {
   "cell_type": "markdown",
   "metadata": {},
   "source": [
    "## First steps inside the notebook\n",
    "- We will need an IJulia kernel for jupyter notebook\n",
    "- For installation use the built in package manager\n",
    "```\n",
    "using Pkg\n",
    "Pkg.add(\"IJulia\")\n",
    "```"
   ]
  },
  {
   "cell_type": "code",
   "execution_count": null,
   "metadata": {},
   "outputs": [],
   "source": [
    "using Pkg\n",
    "Pkg.add(\"IJulia\")"
   ]
  },
  {
   "cell_type": "code",
   "execution_count": null,
   "metadata": {},
   "outputs": [],
   "source": [
    "# Note that (unlike numpy) the vectors are column vectors, not row vectors\n",
    "A = [1, 2, 3, 4];"
   ]
  },
  {
   "cell_type": "code",
   "execution_count": null,
   "metadata": {},
   "outputs": [],
   "source": [
    "# 1-based indexing as if matlab\n",
    "first(A) == A[1]"
   ]
  },
  {
   "cell_type": "code",
   "execution_count": null,
   "metadata": {},
   "outputs": [],
   "source": [
    "# Some other matlab influence\n",
    "B = A.^2;   # not A**2\n",
    "\n",
    "foreach(x -> println(x), B)"
   ]
  },
  {
   "cell_type": "code",
   "execution_count": null,
   "metadata": {},
   "outputs": [],
   "source": [
    "# Just showing off unicode\n",
    "2 ∉ A"
   ]
  },
  {
   "cell_type": "code",
   "execution_count": null,
   "metadata": {},
   "outputs": [],
   "source": [
    "# Checking subsets\n",
    "b = Set([2, 3]);\n",
    "a = Set(A);  \n",
    "# ; supresses printing the result of last expression\n",
    "#NOTE: the value assignment `a = rhs` is rhs"
   ]
  },
  {
   "cell_type": "code",
   "execution_count": null,
   "metadata": {},
   "outputs": [],
   "source": [
    "a < b"
   ]
  },
  {
   "cell_type": "markdown",
   "metadata": {},
   "source": [
    "Same as in Python we can can if b is a subset of a as `b < a`. But if you got used on the beauty of $\\in$ you might find it hard to settle for `<`. So let's define our first function "
   ]
  },
  {
   "cell_type": "code",
   "execution_count": null,
   "metadata": {},
   "outputs": [],
   "source": [
    "⊂(a, b) = a < b"
   ]
  },
  {
   "cell_type": "code",
   "execution_count": null,
   "metadata": {},
   "outputs": [],
   "source": [
    "# Testdrive\n",
    "b < a && b ⊂ a "
   ]
  },
  {
   "cell_type": "markdown",
   "metadata": {},
   "source": [
    "## What is Julia ?\n",
    "+ Julia: A fresh approach to numerical computing, see [paper](http://arxiv.org/abs/1411.1607) and [thesis](https://github.com/julialang/julia/issues/8839)\n",
    "+ High level, dynamic, (dynamically) typed, general purpose language\n",
    "+ Free and open-source. MIT licence\n",
    "+ Went [viral](https://www.google.com/trends/explore#q=julia%20language) on Valentine's day 2014\n",
    "+ Some features we will see in action today\n",
    "    - type inference\n",
    "    - JIT compiler\n",
    "    - rich typestem\n",
    "    - multiple dispatch\n",
    "    - zero overhead C/Fortran calls \n",
    "    - metaprogramming\n",
    "+ Version 1.8 now. First stable 1.0 release in 2019"
   ]
  },
  {
   "cell_type": "markdown",
   "metadata": {},
   "source": [
    "## Why do we need yet another language?\n",
    "\n",
    "Short answer - to address the two language paradigm\n",
    "+ Express the idea in high level language(Python) - setup prototype quickly. Performance far from production code\n",
    "+ Production code then written in low level language (C/C++)\n",
    "+ Write performance critical parts of code in low level language and glue together ([Numba](http://numba.pydata.org/), SWIG)\n",
    "    - FEniCS uses Python to generate C++ code (see poisson.ufl, poisson.h) that is compiled and wrapped for Python\n",
    "    - [Some people](http://www.sciencedirect.com/science/article/pii/S0010465516300200) prototype in Python/NumPy and then write the same code in [Cython](https://github.com/spectralDNS/spectralDNS/blob/master/spectralDNS/optimization/cython_maths.in)\n",
    "+ To extend NumPy/SciPy you (usually) have to write C"
   ]
  },
  {
   "cell_type": "markdown",
   "metadata": {},
   "source": [
    "Julia's approach\n",
    "+ Designed to be easy to write with performance close to C\n",
    "+ If that is true you need one language to solve your problem\n",
    "+ It seems to be true: benchmarks from the Julia website"
   ]
  },
  {
   "cell_type": "raw",
   "metadata": {},
   "source": [
    "              |     F|Julia |Python\t|R      |Matlab\t|Octave\t    |Mathm\t|JS\t    |Go\t    |LuaJIT\t|Java\n",
    "--------------|------|------|-------|-------|-------|-----------|-------|-------|-------|-------|----    \n",
    "fib\t          |0.70  |2.11\t|77.76\t|533.52\t|26.89\t|9324.35\t|118.53\t|3.36\t|1.86\t|1.71\t|1.21\n",
    "parse_int\t  |5.05\t |1.45\t|17.02\t|45.73\t|802.52\t|9581.44\t|15.02\t|6.06\t|1.20\t|5.77\t|3.35\n",
    "quicksort\t  |1.31\t |1.15\t|32.89\t|264.54\t|4.92\t|1866.01\t|43.23\t|2.70\t|1.29\t|2.03\t|2.60\n",
    "mandel\t      |0.81\t |0.79\t|15.32\t|53.16\t|7.58\t|451.81\t    |5.13\t|0.66\t|1.11\t|0.67\t|1.35\n",
    "pi_sum\t      |1.00\t |1.00\t|21.99\t|9.56\t|1.00\t|299.31\t    |1.69\t|1.01\t|1.00\t|1.00\t|1.00\n",
    "rand_mat_stat |1.45\t |1.66\t|17.93\t|14.56\t|14.52\t|30.93\t    |5.95\t|2.30\t|2.96\t|3.27\t|3.92\n",
    "rand_mat_mul  |3.48\t |1.02\t|1.14\t|1.57\t|1.12\t|1.12\t    |1.30\t|15.07\t|1.42\t|1.16\t|2.36"
   ]
  },
  {
   "cell_type": "markdown",
   "metadata": {},
   "source": [
    "# Some benchmark problems of our own"
   ]
  },
  {
   "cell_type": "markdown",
   "metadata": {},
   "source": [
    "## Project Euler problem 14. \n",
    "The following iterative sequence is defined for the set of positive integers:\n",
    "\n",
    "+ n → n/2 (n is even)\n",
    "+ n → 3n + 1 (n is odd)\n",
    "\n",
    "Using the rule above and starting with 13, we generate the following sequence: 13 → 40 → 20 → 10 → 5 → 16 → 8 → 4 → 2 → 1. Which starting number, under one million, produces the longest chain? Note that whether the chain terminates for arbitrary $n$ is an unproved conjecture.\n",
    "\n",
    "+ To solve PE problem's the solution must be obtained in less then 60s. Honor code is to beat 1s.\n",
    "+ Note that the code presented here is a bruteforce solution\n",
    "+ The answer it produces is correct"
   ]
  },
  {
   "cell_type": "code",
   "execution_count": null,
   "metadata": {},
   "outputs": [],
   "source": [
    "\"\"\"Compute the Collatz chain for number n.\"\"\"\n",
    "function collatz_chain(n)\n",
    "    k = 1\n",
    "    while n > 1\n",
    "        n = isodd(n) ? 3n+1 : n >> 1\n",
    "        k += 1\n",
    "        # println(n)\n",
    "    end\n",
    "    k\n",
    "end\n",
    "\n",
    "\"\"\"Which of the number [1, stop) has the longest Collatz chain.\"\"\"\n",
    "function solve_euler(stop)\n",
    "    n, N, N_max = 1, 0, 0  \n",
    "    while n < stop\n",
    "        value = collatz_chain(n)\n",
    "        if value > N_max\n",
    "            N = n\n",
    "            N_max = value\n",
    "        end\n",
    "        n += 1\n",
    "    end\n",
    "    (N, N_max)\n",
    "end"
   ]
  },
  {
   "cell_type": "code",
   "execution_count": null,
   "metadata": {},
   "outputs": [],
   "source": [
    "# Let's time it\n",
    "N = 1000000\n",
    "answer = @time solve_euler(N)\n",
    "answer"
   ]
  },
  {
   "cell_type": "markdown",
   "metadata": {},
   "source": [
    "Julia is done in about 0.2s, Python need ~11s. So with Julia I am onto the next problem. With Python it is back to the drawing board."
   ]
  },
  {
   "cell_type": "markdown",
   "metadata": {},
   "source": [
    "## Julia fractal\n",
    "+ It is only approprate that we explore the Julia set\n",
    "+ Explore points $z$ in the complex plain such that $z_{n+1}=z^2_{n}+c$ is bounded for any n"
   ]
  },
  {
   "cell_type": "code",
   "execution_count": null,
   "metadata": {},
   "outputs": [],
   "source": [
    "# Julia code is a translation of the definition\n",
    "\"\"\"Color Julia set. Code from https://www.youtube.com/watch?v=PsjANO10KgM\"\"\"\n",
    "function julia(z, c)\n",
    "    for n in 1:80\n",
    "        if abs2(z) > 4\n",
    "            # Color by iterations\n",
    "            return n-1\n",
    "        end\n",
    "        z = z*z + c\n",
    "    end\n",
    "    return 80\n",
    "end\n",
    "\n",
    "\"\"\"Color Julia set. Prealoc version\"\"\"\n",
    "function julia(x, y, c)\n",
    "    J = zeros(length(x), length(y))\n",
    "    index = 0\n",
    "    for r in y, i in x\n",
    "        index += 1\n",
    "        # Flat indexing\n",
    "        J[index] = julia(complex(r, i), c)\n",
    "    end\n",
    "    J\n",
    "end"
   ]
  },
  {
   "cell_type": "markdown",
   "metadata": {},
   "source": [
    "Few things to observe\n",
    "- We have defined `julia` functions differing by signatures. Which one gets called when the code is run is our first encounter with _multiple dispatch_.\n",
    "- `J[index]` is the flattened indexing"
   ]
  },
  {
   "cell_type": "code",
   "execution_count": null,
   "metadata": {},
   "outputs": [],
   "source": [
    "# We explore a few points\n",
    "cs = (complex(-0.06, 0.67), complex(0.279, 0), complex(-0.4, 0.6), complex(0.285, 0.01))\n",
    "\n",
    "x = collect(1:-0.002:-1);\n",
    "y = collect(-1.5:0.002:1.5);\n",
    "\n",
    "Js = []\n",
    "# Evaluate fractal generation\n",
    "t0 = time()\n",
    "for c in cs\n",
    "    # No prealoc 0.4s\n",
    "    # push!(Js, [julia(complex(r, i), c) for i in x, r in y]);\n",
    "    # Prealoc out 0.35s\n",
    "    push!(Js, julia(x, y, c));\n",
    "end\n",
    "t1 = time()\n",
    "\n",
    "print(\"Generated in $(t1-t0)f s\\n\");\n",
    "println(\"Image size $(size(Js[1], 1))x$(size(Js[1], 2))\")"
   ]
  },
  {
   "cell_type": "code",
   "execution_count": null,
   "metadata": {},
   "outputs": [],
   "source": [
    "using Plots\n",
    "heatmap(first(Js))"
   ]
  },
  {
   "cell_type": "markdown",
   "metadata": {},
   "source": [
    "Python requires close to 3s to generate the fractals. With either of the Julia versions the execution time is close to 1s."
   ]
  },
  {
   "cell_type": "markdown",
   "metadata": {
    "collapsed": true
   },
   "source": [
    "# Writing code like Python\n",
    "\n",
    "+ Illustrate workflow by a made example of postprocessing \n",
    "+ Below we mostly avoid being explicit about types on purpose"
   ]
  },
  {
   "cell_type": "code",
   "execution_count": null,
   "metadata": {},
   "outputs": [],
   "source": [
    "# Reading from file. How many words in the MIT licence?\n",
    "LICENCE = open(\"./LICENSE\")\n",
    "content = map(lowercase, read(LICENCE, String))\n",
    "words = split(content, r\"\\W+\")\n",
    "close(LICENCE)\n",
    "length(words)"
   ]
  },
  {
   "cell_type": "code",
   "execution_count": null,
   "metadata": {},
   "outputs": [],
   "source": [
    "# We could have done this with bash.\n",
    "# Shell interoperatbility `(backtick)\n",
    "cmd = pipeline(`cat LICENSE`, `wc -w`)\n",
    "run(cmd)  # 173 vs 171, less than 1% error is okay:)"
   ]
  },
  {
   "cell_type": "code",
   "execution_count": null,
   "metadata": {},
   "outputs": [],
   "source": [
    "# Are all these words unique?\n",
    "unique_words = Dict()\n",
    "for word ∈ words\n",
    "    unique_words[word] = get(unique_words, word, 0) + 1\n",
    "end\n",
    "length(keys(unique_words))"
   ]
  },
  {
   "cell_type": "code",
   "execution_count": null,
   "metadata": {},
   "outputs": [],
   "source": [
    "unique_words"
   ]
  },
  {
   "cell_type": "code",
   "execution_count": null,
   "metadata": {},
   "outputs": [],
   "source": [
    "# What are the most common?\n",
    "for (_, (k, v)) in zip(1:5, sort(collect(unique_words), by=last, rev=true))\n",
    "    println(\"$(k) $(v)\")\n",
    "end"
   ]
  },
  {
   "cell_type": "markdown",
   "metadata": {},
   "source": [
    "Note that collect unique makes a list by iterating over the dictionary. This iterations is over KEY-VALUE pairs. This is unlike Python. Let's see what else is different."
   ]
  },
  {
   "cell_type": "code",
   "execution_count": null,
   "metadata": {},
   "outputs": [],
   "source": [
    "# iteration is over (key, values) pairs\n",
    "for (key, value) in zip(1:4, collect(unique_words))\n",
    "    println(\"$key => $value\")  # \"%.4g\" % (...)\n",
    "end"
   ]
  },
  {
   "cell_type": "code",
   "execution_count": null,
   "metadata": {},
   "outputs": [],
   "source": [
    "# : is => in the dictionary construction\n",
    "dict = Dict(1 => \"one\", 2 => \"two\")"
   ]
  },
  {
   "cell_type": "code",
   "execution_count": null,
   "metadata": {},
   "outputs": [],
   "source": [
    "# in checks for (key, value) pair\n",
    "haskey(dict, 1), (1 => \"en\") ∈ dict"
   ]
  },
  {
   "cell_type": "code",
   "execution_count": null,
   "metadata": {},
   "outputs": [],
   "source": [
    "typeof(1 => 2)"
   ]
  },
  {
   "cell_type": "code",
   "execution_count": null,
   "metadata": {},
   "outputs": [],
   "source": [
    "# String concatenation is done with *. With + the operation should be commutative, which is not the case here\n",
    "\"Julia\" * \" Language\""
   ]
  },
  {
   "cell_type": "code",
   "execution_count": null,
   "metadata": {},
   "outputs": [],
   "source": [
    "# A direct consequence of this is ...\n",
    "\"Julia\"^5"
   ]
  },
  {
   "cell_type": "code",
   "execution_count": null,
   "metadata": {},
   "outputs": [],
   "source": [
    "# / is for floating point division. Integer division is done by div. Rational numbers are built it\n",
    "/(7, 4), div(7, 4), 7÷4, 7 // 4"
   ]
  },
  {
   "cell_type": "code",
   "execution_count": null,
   "metadata": {},
   "outputs": [],
   "source": [
    "# Indexing starts at one. The last element in range is included. 0..last not included has same length as 1..last included\n",
    "a = [1, 2, 3]\n",
    "try\n",
    "    a[0]\n",
    "catch BoundsError\n",
    "    println(\"No no, a[1]=\", a[1], \" \", a[end] == a[3] == 3)\n",
    "end\n",
    "\n",
    "collect(1:10)[10] == 10"
   ]
  },
  {
   "cell_type": "code",
   "execution_count": null,
   "metadata": {},
   "outputs": [],
   "source": [
    "# Convenience\n",
    "x = 4\n",
    "y = 2x  # no *\n",
    "y == 8"
   ]
  },
  {
   "cell_type": "code",
   "execution_count": null,
   "metadata": {},
   "outputs": [],
   "source": [
    "# List comprehensions. More convenience; save one \"for\"\n",
    "[(i, j) for i in 1:4, j in \"abcd\"]"
   ]
  },
  {
   "cell_type": "code",
   "execution_count": null,
   "metadata": {},
   "outputs": [],
   "source": [
    "# Contrast this with Python\n",
    "A = reshape(collect(1:25), (5, 5))"
   ]
  },
  {
   "cell_type": "code",
   "execution_count": null,
   "metadata": {},
   "outputs": [],
   "source": [
    "# In numpy you get to iterate over rows of matrix (for vectorization). In Julia this is not default. \n",
    "entries = [e for e in A]  #join(map(string, collect(A)), \", \")\n",
    "# Moverover, columns are contiguous so accessing rows is not efficient.\n",
    "# Finaly you iterate over values not pointers\n",
    "for a in A\n",
    "    a += 1\n",
    "end\n",
    "A"
   ]
  },
  {
   "cell_type": "code",
   "execution_count": null,
   "metadata": {},
   "outputs": [],
   "source": [
    "for i in eachindex(A)\n",
    "    A[i] += 1\n",
    "end\n",
    "A "
   ]
  },
  {
   "cell_type": "code",
   "execution_count": null,
   "metadata": {},
   "outputs": [],
   "source": [
    "# Column majored linear indexing\n",
    "A[8] == 9"
   ]
  },
  {
   "cell_type": "code",
   "execution_count": null,
   "metadata": {},
   "outputs": [],
   "source": [
    "A = [1 2; 3 4] # 2x2 \n",
    "B = [1, 2]     # 2 x 1\n",
    "C = [1 2]      # 1 x 2\n",
    "A"
   ]
  },
  {
   "cell_type": "markdown",
   "metadata": {},
   "source": [
    "Finally a quick look at functions"
   ]
  },
  {
   "cell_type": "code",
   "execution_count": null,
   "metadata": {},
   "outputs": [],
   "source": [
    "# One lined named function definition\n",
    "f(x, y) = 2x + 4y   # Define\n",
    "f(1, 0) == 2  # Call"
   ]
  },
  {
   "cell_type": "code",
   "execution_count": null,
   "metadata": {},
   "outputs": [],
   "source": [
    "# Implicit return statements\n",
    "function f(name)\n",
    "    if isequal(name, \"Sparta\")\n",
    "        return \"This is \" * name * \"!\"\n",
    "    end\n",
    "    name  # Implicit return\n",
    "end\n",
    "\n",
    "(f(\"London\"), f(\"Sparta\")) == (\"London\", \"This is Sparta!\")"
   ]
  },
  {
   "cell_type": "code",
   "execution_count": null,
   "metadata": {},
   "outputs": [],
   "source": [
    "# Variable positional arguments\n",
    "mysum(args...) = join(map(string, args), \"+\")\n",
    "mysum(10, 20)"
   ]
  },
  {
   "cell_type": "code",
   "execution_count": null,
   "metadata": {},
   "outputs": [],
   "source": [
    "# Higher order functions with keywords arguments\n",
    "foo(x; op=+) = op(x, 1)"
   ]
  },
  {
   "cell_type": "code",
   "execution_count": null,
   "metadata": {},
   "outputs": [],
   "source": [
    "[foo(1), foo(2; op=-), foo(4; op=*)]"
   ]
  },
  {
   "cell_type": "code",
   "execution_count": null,
   "metadata": {},
   "outputs": [],
   "source": [
    "# Lambdas: remove vowels\n",
    "vowels = ('a', 'e', 'i', 'o', 'u', 'y')\n",
    "map(word -> filter(l -> (l ∉ vowels), word), Tuple(keys(unique_words)))\n",
    "# Tuple(keys(unique_words))"
   ]
  },
  {
   "cell_type": "code",
   "execution_count": null,
   "metadata": {},
   "outputs": [],
   "source": [
    "# Specifying types for functions\n",
    "# Parametric function: for any Matrix where the valuetype is subtype of Real\n",
    "function trace(A::Matrix{T} where T<:Real)\n",
    "    nrows, ncols = size(A)\n",
    "    @assert nrows == ncols\n",
    "    sum(A[i, i] for i in 1:nrows)\n",
    "end\n",
    "\n",
    "A = rand(2, 2)\n",
    "(A, trace(A))"
   ]
  },
  {
   "cell_type": "code",
   "execution_count": null,
   "metadata": {},
   "outputs": [],
   "source": [
    "# Won't work with complex\n",
    "B = im*rand(2, 2)\n",
    "\n",
    "println(eltype(B))\n",
    "\n",
    "try\n",
    "    trace(B)\n",
    "catch e\n",
    "    println(e)\n",
    "end"
   ]
  },
  {
   "cell_type": "markdown",
   "metadata": {},
   "source": [
    "# Interoperability with Python\n",
    "+ The whole Python ecosystem can be reached via Julia package PyCall  (`Pkg.add(\"PyCall\")`)"
   ]
  },
  {
   "cell_type": "code",
   "execution_count": null,
   "metadata": {},
   "outputs": [],
   "source": [
    "using PyCall"
   ]
  },
  {
   "cell_type": "code",
   "execution_count": null,
   "metadata": {},
   "outputs": [],
   "source": [
    "# Use python iteratorors\n",
    "@pyimport itertools as iter\n",
    "A = (1, 2, 3)          # Julia matrix\n",
    "for i ∈ iter.product(A, A)  # Call with Julia input\n",
    "    println(i)\n",
    "end# Passed to python no copying"
   ]
  },
  {
   "cell_type": "code",
   "execution_count": null,
   "metadata": {},
   "outputs": [],
   "source": [
    "# Let's have numpy make the matrix and then Julia takes over for the actual work\n",
    "@pyimport numpy as np\n",
    "Apy = np.diag([1, 2, 3, 4])  # Note that this is Julia array passed to Numpy which comes back as a Julia matrix\n",
    "\n",
    "using LinearAlgebra\n",
    "\n",
    "eigvals(Apy)  # Call Julia function with Python input"
   ]
  },
  {
   "cell_type": "code",
   "execution_count": null,
   "metadata": {},
   "outputs": [],
   "source": [
    "using PyPlot  # Calls into matplotlib\n",
    "\n",
    "# Julia has native packages for plotting, but why give up matplotlib\n",
    "x = range(-1, 1, length=100)\n",
    "y = sin.(2π*x)  # NOTE: dot syntax\n",
    "figure()\n",
    "PyPlot.plot(x, y)\n",
    "xlabel(\"\\$x\\$\")  # Note that dollars have to be escaped for they have special role in Julia's string (interpolation)\n",
    "show()"
   ]
  },
  {
   "cell_type": "markdown",
   "metadata": {
    "collapsed": true
   },
   "source": [
    "# Some of Julia's magic (reasons for speed)\n",
    "\n",
    "Warning: I do not know/understand the whole story. It seems magical. That said, let me quote the Julia manual:\n",
    "\n",
    "> Clever application of sufficiently advanced technology can be indistiguishable from magic (A. C. Clarke)"
   ]
  },
  {
   "cell_type": "markdown",
   "metadata": {},
   "source": [
    "## Compiler"
   ]
  },
  {
   "cell_type": "code",
   "execution_count": null,
   "metadata": {},
   "outputs": [],
   "source": [
    "#Your code is parsed, type annotated(types can be inferred). \n",
    "simplef(x, y) = x + y\n",
    "simplef(1, 2)\n",
    "\n",
    "@code_warntype simplef(1, 2)   # Types based on input"
   ]
  },
  {
   "cell_type": "code",
   "execution_count": null,
   "metadata": {},
   "outputs": [],
   "source": [
    "# When f is called with specific values JIT compiles the function. With type annotation the compiler can reason about\n",
    "# the code and generate efficient code.\n",
    "@code_llvm simplef(1, 2)      # Note @julia_simplef_FOO(i64, i64)"
   ]
  },
  {
   "cell_type": "code",
   "execution_count": null,
   "metadata": {},
   "outputs": [],
   "source": [
    "# Different value types will invoke JIT again\n",
    "@code_llvm simplef(1, 2.)        # @julia_simplef_BAR(i64, double)"
   ]
  },
  {
   "cell_type": "markdown",
   "metadata": {},
   "source": [
    "## Type system\n",
    "All values have types. You can type annotate your variables. This is not really for performance. Rather, you declare your intensions better."
   ]
  },
  {
   "cell_type": "code",
   "execution_count": null,
   "metadata": {},
   "outputs": [],
   "source": [
    "map(typeof, (1, 2., [1, 2.]))"
   ]
  },
  {
   "cell_type": "code",
   "execution_count": null,
   "metadata": {},
   "outputs": [],
   "source": [
    "# This reads as is lhs an instance of rhs\n",
    "1::Number, 1::Real, 1::Int"
   ]
  },
  {
   "cell_type": "code",
   "execution_count": null,
   "metadata": {},
   "outputs": [],
   "source": [
    "# But \n",
    "try\n",
    "    1::Int8\n",
    "catch TypeError\n",
    "    println(\"Type of 1 is $(typeof(1)) and that is not a subtype of Int8\")\n",
    "end"
   ]
  },
  {
   "cell_type": "markdown",
   "metadata": {},
   "source": [
    "The type hierarchy is appearing."
   ]
  },
  {
   "cell_type": "code",
   "execution_count": null,
   "metadata": {},
   "outputs": [],
   "source": [
    "depth = 0\n",
    "function printtypes(T)\n",
    "    global depth\n",
    "    if isconcretetype(T)\n",
    "        println(\"-\"^(2*depth), \"$T\")\n",
    "    else\n",
    "        println(\"-\"^depth, \"$T\")\n",
    "        depth += 1\n",
    "        map(printtypes, subtypes(T))\n",
    "        depth -= 1\n",
    "    end\n",
    "end\n",
    "\n",
    "printtypes(Real)  # Loong wait. Listen to the fan - silly ideas make sounds"
   ]
  },
  {
   "cell_type": "markdown",
   "metadata": {},
   "source": [
    "+ In the type tree the nodes are _abstract_ types and the leafs are _concrete_ types.\n",
    "+ The abstract types express concepts and there are no instances of it but singletons. \n",
    "+ The concete types can have instances but cannot be subtyped."
   ]
  },
  {
   "cell_type": "markdown",
   "metadata": {},
   "source": [
    "## Multiple dispatch\n",
    "\n",
    "If types are specified in the functions signature the compiler (first compiles and then) calls appropiate function based on the type of all the arguments. That is, unlike in OO programing, it is not the first type that owns the method. There is nothing special about the first argument; think `Int.__add__(self, other)` in Python. "
   ]
  },
  {
   "cell_type": "code",
   "execution_count": null,
   "metadata": {},
   "outputs": [],
   "source": [
    "# + is a function +(x, y) = ... . Which one is called based on args\n",
    "@which +(1, 3)"
   ]
  },
  {
   "cell_type": "code",
   "execution_count": null,
   "metadata": {},
   "outputs": [],
   "source": [
    "@which 0x1+0x3\n",
    "# Same as args agree in types from the union"
   ]
  },
  {
   "cell_type": "code",
   "execution_count": null,
   "metadata": {},
   "outputs": [],
   "source": [
    "@which 1+2.\n",
    "# Different"
   ]
  },
  {
   "cell_type": "markdown",
   "metadata": {},
   "source": [
    "New types can be defined easily. In the example we'd like to represent functions given by their sine series."
   ]
  },
  {
   "cell_type": "code",
   "execution_count": null,
   "metadata": {},
   "outputs": [],
   "source": [
    "\"\"\"Polynomial with value c[i]*sin(i*pi*x)\"\"\"\n",
    "struct SinePolynomial{T}\n",
    "    coefs::Vector{T}\n",
    "end"
   ]
  },
  {
   "cell_type": "code",
   "execution_count": null,
   "metadata": {},
   "outputs": [],
   "source": [
    "# If not specified otherwise our parent is Any - the very tip of the type tree\n",
    "supertype(SinePolynomial)"
   ]
  },
  {
   "cell_type": "code",
   "execution_count": null,
   "metadata": {},
   "outputs": [],
   "source": [
    "# Our type is composite i.e. has fields\n",
    "fieldnames(SinePolynomial)"
   ]
  },
  {
   "cell_type": "markdown",
   "metadata": {},
   "source": [
    "To add 'its methods' we define functions with the new type. These are added to the dispatcher's system and called when needed."
   ]
  },
  {
   "cell_type": "code",
   "execution_count": null,
   "metadata": {},
   "outputs": [],
   "source": [
    "import Base: +, -\n",
    "# Add () for evaluating the polynomial\n",
    "# Note that we are defining SinePolynomial such that the coefficients can have any type.\n",
    "# That (conrete) type is referred to by T\n",
    "(p::SinePolynomial{T} where {T})(x::Real) = sum([c*sin(k*π*x) for (k, c) in enumerate(p.coefs)])\n",
    "\n",
    "p(2)  # Call (With Int) works as that's a subtype of real\n",
    "\n",
    "# We can add/subtract polynomials. This is simple because of othogonality\n",
    "# Again we can add p, q with coefficients of 2 different types\n",
    "function +(p::SinePolynomial{T}, q::SinePolynomial{S}) where {T} where {S}\n",
    "    np, nq = length(p.coefs), length(q.coefs)\n",
    "    n = max(np, nq)\n",
    "    p = [p.coefs; zeros(T, n-np)]\n",
    "    q = [q.coefs; zeros(T, n-nq)]\n",
    "    SinePolynomial(p+q)\n",
    "end\n",
    "\n",
    "function -(p::SinePolynomial{T}, q::SinePolynomial{S}) where {T} where {S}\n",
    "    np, nq = length(p.coefs), length(q.coefs)\n",
    "    n = max(np, nq)\n",
    "    p = [p.coefs; zeros(T, n-np)]\n",
    "    q = [q.coefs; zeros(T, n-nq)]\n",
    "    SinePolynomial(p-q)\n",
    "end\n",
    "\n",
    "plus_methods = methods(+)\n",
    "# See that + has been added to lookup table for dispatching\n",
    "filter(m -> contains(String(m.file), \"In\"), plus_methods)"
   ]
  },
  {
   "cell_type": "code",
   "execution_count": null,
   "metadata": {},
   "outputs": [],
   "source": [
    "import Base.*\n",
    "# We better prevent multiplications\n",
    "*(p::SinePolynomial{T}, q::SinePolynomial{S}) where {T} where {S} = throw(ArgumentError(\"No multiplication until CosinePolynomial\"))\n",
    "\n",
    "p = SinePolynomial([1, 2, 3])\n",
    "q = SinePolynomial([2, -1])\n",
    "\n",
    "try\n",
    "    p*q\n",
    "catch ArgumentError\n",
    "    println(\"Is it okay? \", applicable(*, (typeof(p), typeof(q))))\n",
    "    nothing\n",
    "end"
   ]
  },
  {
   "cell_type": "code",
   "execution_count": null,
   "metadata": {
    "scrolled": true
   },
   "outputs": [],
   "source": [
    "p = SinePolynomial([1]) + SinePolynomial([0, 1])\n",
    "x = range(-1, 1, 100)\n",
    "y = p.(x)  # NOTE: we never wrote () for arrays; . here automatically does broadcasting\n",
    "\n",
    "using PyPlot  # Another python interoperability (calls to matplolib)\n",
    "\n",
    "figure()\n",
    "PyPlot.plot(x, y)\n",
    "show()"
   ]
  },
  {
   "cell_type": "markdown",
   "metadata": {},
   "source": [
    "## Type stability\n",
    "+ You do not have to talk about types when writing Julia code\n",
    "+ Compiler does its best to remove uncertainties about types when analyzing the code but this is not always possible\n",
    "+ The generated code must then handle the uncertainty, unboxing\n",
    "+ Consider this example (taken from the old Introducing Julia and Julia manual)"
   ]
  },
  {
   "cell_type": "code",
   "execution_count": null,
   "metadata": {},
   "outputs": [],
   "source": [
    "# Type INstability of s\n",
    "function unstable(n)\n",
    "    s = 0          # S is int\n",
    "    for i in 1:n\n",
    "        s += s/i   # S is Float\n",
    "    end\n",
    "    s\n",
    "end\n",
    "\n",
    "# Type stability of s\n",
    "function stable(n)\n",
    "    s = 0.0         # S is Float\n",
    "    for i in 1:n\n",
    "        s += s/i   # S is Float\n",
    "    end\n",
    "    s\n",
    "end"
   ]
  },
  {
   "cell_type": "markdown",
   "metadata": {},
   "source": [
    "Let's compare the speed"
   ]
  },
  {
   "cell_type": "code",
   "execution_count": null,
   "metadata": {},
   "outputs": [],
   "source": [
    "@time stable(1000000)"
   ]
  },
  {
   "cell_type": "code",
   "execution_count": null,
   "metadata": {},
   "outputs": [],
   "source": [
    "@time unstable(1000000)  # Small but noticibly slower (was really noticible in older versions)"
   ]
  },
  {
   "cell_type": "code",
   "execution_count": null,
   "metadata": {},
   "outputs": [],
   "source": [
    "# Below note the uncertainty of the compiler about the return value; Union vs Definite type [unstable vs stable] \n",
    "# NOTE: \n",
    "code_warntype(unstable, (Int, ))  # Or @code_warntype unstable(1)   [some value that has int type]\n",
    "println(\"=\"^10)\n",
    "code_warntype(stable, (Int, ))"
   ]
  },
  {
   "cell_type": "code",
   "execution_count": null,
   "metadata": {},
   "outputs": [],
   "source": [
    "# And see about the length of the code that gets generated 67 vs 37\n",
    "code_llvm(unstable, (Int, ))  \n",
    "println(\"=\"^10)\n",
    "code_llvm(stable, (Int, ))"
   ]
  },
  {
   "cell_type": "markdown",
   "metadata": {},
   "source": [
    "# Interoperability with C\n",
    "\n",
    "+ C (and fortran) functions available in shared libraries can be accessed via `ccall`\n",
    "+ In this case Julia's JIT generates code such calling the C function from Julia is as fast as the call from native C\n",
    "+ The arguments to `ccall` are function name, library, return type, tuple of input types and the values for input parameters"
   ]
  },
  {
   "cell_type": "markdown",
   "metadata": {},
   "source": [
    "Polynomial evaluation using GNU scientific library. Parametrized functions, restricted types (only Real coefs).\n",
    "The signature of [gsl_poly_val](https://www.gnu.org/software/gsl/manual/html_node/Polynomial-Evaluation.html#Polynomial-Evaluation)\n"
   ]
  },
  {
   "cell_type": "code",
   "execution_count": null,
   "metadata": {},
   "outputs": [],
   "source": [
    "# Polynomial evaluation using GNU scientific library. Parametrized functions, restricted types\n",
    "\"\"\"Evaluate polynomial c[1]*x^0 + c[2]*x^1 ... at x\"\"\"\n",
    "function polyval(c::Vector{T} where T, x::S where S)\n",
    "    c = convert(Vector{Float64}, c)\n",
    "    n = length(c)\n",
    "    value = ccall((:gsl_poly_eval, \"libgsl\"), Cdouble, (Ptr{Cdouble}, Cint, Cdouble), c, n, x)\n",
    "    Float64(value)\n",
    "end"
   ]
  },
  {
   "cell_type": "code",
   "execution_count": null,
   "metadata": {},
   "outputs": [],
   "source": [
    "using Plots\n",
    "\n",
    "# Plot some random polynomials\n",
    "x = collect(-1:0.1:1) \n",
    "\n",
    "ys = []\n",
    "for i in 1:4\n",
    "    c = rand(5)\n",
    "    y = map(x -> polyval(c, x), x)\n",
    "    push!(ys, y)\n",
    "end\n",
    "\n",
    "Plots.plot(x, ys)  # Specify module"
   ]
  },
  {
   "cell_type": "markdown",
   "metadata": {},
   "source": [
    "## Batteries included \n",
    "\n",
    "+ Julia has a very large scientific stack, e.g. FFT (FFTW by Steven G. Johnson), LA(LAPACK, BLAS, SuiteSparse), statistics\n",
    "+ You can use existing Python modules(`PyCall`), existing C/Fortran libraries(`ccall`)\n",
    "+ Some other (personal favourites): [IterativeSolvers.jl](https://github.com/JuliaMath/IterativeSolvers.jl), [PETSc.jl](https://github.com/JuliaParallel/PETSc.jl)\n",
    "[Lazy.jl](https://github.com/MikeInnes/Lazy.jl), [JuMP.jl](https://jump.dev/JuMP.jl/stable/)"
   ]
  },
  {
   "cell_type": "code",
   "execution_count": null,
   "metadata": {},
   "outputs": [],
   "source": [
    "# And many more ...\n",
    "using Pkg\n",
    "Pkg.installed()"
   ]
  },
  {
   "cell_type": "markdown",
   "metadata": {},
   "source": [
    "Let's show off a bit of linear algebra features."
   ]
  },
  {
   "cell_type": "code",
   "execution_count": null,
   "metadata": {},
   "outputs": [],
   "source": [
    "using LinearAlgebra\n",
    "\n",
    "# The favourite Poisson problem on UnitInterval. Convergence of CG1 FEM\n",
    "A = 0  # Keep A outside for loop\n",
    "for ncells in [2^i for i in 8:14]\n",
    "    h = 1/ncells\n",
    "    x = Float64[h*i for i in 0:ncells]\n",
    "    F = sin.(2π*x)\n",
    "    U = sin.(2π*x)/4/π^2\n",
    "    \n",
    "    # Based on type of A specialized solver will be called\n",
    "    A = SymTridiagonal(fill(2, ncells+1), fill(-1, ncells))/h\n",
    "    b = h*F\n",
    "\n",
    "    u = A\\b\n",
    "    e = norm(u - U)\n",
    "    println(e)\n",
    "end\n",
    "\n",
    "# Which factorize was dispatched - the specific one for sym tridiag. systems\n",
    "@which factorize(A)"
   ]
  },
  {
   "cell_type": "markdown",
   "metadata": {},
   "source": [
    "Now for the eigenvalue problem"
   ]
  },
  {
   "cell_type": "code",
   "execution_count": null,
   "metadata": {},
   "outputs": [],
   "source": [
    "using SparseArrays\n",
    "\n",
    "# And now the eigenvalues. Convergence of the smallest eig of -u'' = lambda* u in (0, 1) with homog. Dirichlet bcs\n",
    "for ncells in [2^i for i in 3:12]\n",
    "    h = 1/ncells\n",
    "    x = Float64[h*i for i in 0:ncells]\n",
    "\n",
    "    A = SymTridiagonal(fill(2, ncells+1), fill(-1, ncells))/h\n",
    "    # Here instead of solving GEVP for A, M we lump the mass matrix\n",
    "    # and let M :=sqrt(inv(lump(M))) and solve symmetrized problem\n",
    "    # M*A*M'\n",
    "    Ml = spdiagm(sqrt.(1 ./ [1.0 + h/6; fill(h, ncells-1); 1.0 + h/6]))\n",
    "    B = (Ml)*A*(Ml)\n",
    "    B = SymTridiagonal(Ml*A*Ml)  # Here again we dispatch to a specialized method\n",
    "    eigw = eigvals(B)                          \n",
    "\n",
    "    lmin = minimum(eigw)\n",
    "    println(\"System size $(length(eigw)), error in λ=$(abs(lmin-π^2))\")\n",
    "end"
   ]
  },
  {
   "cell_type": "markdown",
   "metadata": {},
   "source": [
    "For Fourier transform Julia uses *F*astest *F*ourier *T*ransform in the *W*est written originally and also for Julia\n",
    "by Steven G. Johnson - a PhD supervisor of Jeff Bezanson who is one of the creators of Julia."
   ]
  },
  {
   "cell_type": "code",
   "execution_count": null,
   "metadata": {},
   "outputs": [],
   "source": [
    "using Pkg\n",
    "Pkg.add(\"FFTW\")"
   ]
  },
  {
   "cell_type": "code",
   "execution_count": null,
   "metadata": {},
   "outputs": [],
   "source": [
    "using PyCall, FFTW\n",
    "\n",
    "@pyimport scipy.fftpack as pyfft\n",
    "# Show that FFT works\n",
    "v = rand(20)\n",
    "\n",
    "fft_jl = FFTW.r2r(v, [FFTW.REDFT10])\n",
    "fft_py = pyfft.dct(v)\n",
    "\n",
    "norm(fft_jl - fft_py)  # They are the same"
   ]
  },
  {
   "cell_type": "markdown",
   "metadata": {},
   "source": [
    "# Additional resources\n",
    "\n",
    "+ Wikibook [__Introducing Julia__](https://en.wikibooks.org/wiki/Introducing_Julia)  \n",
    "+ [__Julia manual__](http://docs.julialang.org/en/release-0.5/) from the homepage\n",
    "+ YouTube videos\n",
    "    - Introduction [Steven Johnson](https://www.youtube.com/watch?v=jhlVHoeB05A) @ EuroScipy\n",
    "    - Introduction [Alan Edelman](https://www.youtube.com/watch?v=37L1OMk_3FU) @ MIT\n",
    "    - Some metaprogramming [Jeff Bezanson, Stefan Karpinski](https://www.youtube.com/watch?v=pZTqMSM2ksY) @ Curry On\n",
    "    - Julia + Python [Stefan Karpinksi](https://www.youtube.com/watch?v=PsjANO10KgM) @ PyDATA\n",
    "    - ... and plenty others from [JuliaCon](http://juliacon.org/). See Julia's [YouTube](https://www.youtube.com/user/JuliaLanguage/videos) channel.\n",
    "+ Source code on [GitHub](https://github.com/JuliaLang/julia)"
   ]
  },
  {
   "cell_type": "markdown",
   "metadata": {},
   "source": [
    "# Metaprogramming\n",
    "At this point you have seen Python convenience and C speed. Referring back to the talk's title I owe you Lisp macros. Julia is _homoiconic_ - the code is representable as a data structure in the language and we can write code that writes code."
   ]
  },
  {
   "cell_type": "code",
   "execution_count": null,
   "metadata": {},
   "outputs": [],
   "source": [
    "a = :(1+2)  # Symbolic expression"
   ]
  },
  {
   "cell_type": "code",
   "execution_count": null,
   "metadata": {},
   "outputs": [],
   "source": [
    "eval(a)     # Its value from the interpreter"
   ]
  },
  {
   "cell_type": "markdown",
   "metadata": {},
   "source": [
    "The structure/syntax tree can be manipulated. Macros operate only on the tree (they don't know types)"
   ]
  },
  {
   "cell_type": "code",
   "execution_count": null,
   "metadata": {},
   "outputs": [],
   "source": [
    "dump(a)"
   ]
  },
  {
   "cell_type": "code",
   "execution_count": null,
   "metadata": {},
   "outputs": [],
   "source": [
    "# Here we change + to -\n",
    "a.args[1] = :-"
   ]
  },
  {
   "cell_type": "code",
   "execution_count": null,
   "metadata": {},
   "outputs": [],
   "source": [
    "# Consequences of that manipulation\n",
    "eval(a) == -1"
   ]
  },
  {
   "cell_type": "markdown",
   "metadata": {},
   "source": [
    "Let's have look at how this functionality can be useful"
   ]
  },
  {
   "cell_type": "code",
   "execution_count": null,
   "metadata": {},
   "outputs": [],
   "source": [
    "# Suppose that we would like to define operations for this data type\n",
    "struct Foo\n",
    "    value::Number\n",
    "end\n",
    "\n",
    "try\n",
    "    Foo(2) + Foo(3)\n",
    "catch MethodError\n",
    "    println(\"+ is not defined\")\n",
    "end"
   ]
  },
  {
   "cell_type": "code",
   "execution_count": null,
   "metadata": {},
   "outputs": [],
   "source": [
    "# We would write the following code for every method\n",
    "import Base.+\n",
    "+(a::Foo, b::Foo) = Foo(a.value + b.value)\n",
    "\n",
    "(Foo(2) + Foo(3)).value == 5"
   ]
  },
  {
   "cell_type": "code",
   "execution_count": null,
   "metadata": {},
   "outputs": [],
   "source": [
    "# But this can be automated\n",
    "import Base: -, *"
   ]
  },
  {
   "cell_type": "code",
   "execution_count": null,
   "metadata": {},
   "outputs": [],
   "source": [
    "# Look at symbolic bodies for these methods\n",
    "foo_methods = map(Symbol, [-, *])\n",
    "codes = []\n",
    "for method in foo_methods\n",
    "    code = quote \n",
    "        $(method)(a::Foo, b::Foo) = Foo(($method)(a.value, b.value))\n",
    "    end\n",
    "    @show code\n",
    "    push!(codes, code)\n",
    "end"
   ]
  },
  {
   "cell_type": "code",
   "execution_count": null,
   "metadata": {},
   "outputs": [],
   "source": [
    "# And now eval to introduce them to the environment\n",
    "map(eval, codes)\n",
    "\n",
    "# And since The three chief virtues of a programmer are: Laziness, Impatience and Hubris we generate the tests\n",
    "for method in foo_methods\n",
    "    @assert eval(:($(method)(Foo(2), Foo(3)).value == $(method)(2, 3)))\n",
    "end\n",
    "# This doesn't raises so we are all good to go"
   ]
  },
  {
   "cell_type": "code",
   "execution_count": null,
   "metadata": {},
   "outputs": [],
   "source": [
    "@which eigen(rand(2,2))"
   ]
  },
  {
   "cell_type": "markdown",
   "metadata": {},
   "source": [
    "This way of generating code is quite common in Julia's codebase, see e.g. wrapping [BLAS](https://github.com/JuliaLang/julia/blob/master/stdlib/LinearAlgebra/src/blas.jl#L201) routines. When Julia's JIT parses the code and builds an AST we can intercept the process before the code is compiled and work on the built expressions. To this end we use special functions called **macros**."
   ]
  },
  {
   "cell_type": "code",
   "execution_count": null,
   "metadata": {},
   "outputs": [],
   "source": [
    "# A simple example - pad the body with timeing statemenets. \n",
    "# We do this before compilation, otherwise 1+2 will evaluated.\n",
    "macroexpand(Main, :(@time 1 + 2))"
   ]
  },
  {
   "cell_type": "markdown",
   "metadata": {},
   "source": [
    "Here is a more impressive [example](https://github.com/JuliaMath/SpecialFunctions.jl/blob/master/src/erf.jl#L242) from the standard library which computes the inverse of the error function. The idea is that based on the values of argument different polynomial approximation is used. The polynomials are evaluated using Horner's rule and using [macro](https://github.com/JuliaLang/julia/blob/master/base/math.jl#L57) the code for the polynomial evaluation is inlined."
   ]
  },
  {
   "cell_type": "markdown",
   "metadata": {},
   "source": [
    "Some more examples: **beginnings of SymPy**"
   ]
  },
  {
   "cell_type": "code",
   "execution_count": null,
   "metadata": {},
   "outputs": [],
   "source": [
    "dtable = Dict(:sin => :cos, :cosh => :(sinh))\n",
    "# Define symbolic derivative\n",
    "macro ∂(f)\n",
    "    if f.head == :call\n",
    "        quote\n",
    "            $(f.args[2]) -> eval(Expr(:call, $(dtable[f.args[1]]), $(f.args[2])))\n",
    "        end\n",
    "    end\n",
    "end"
   ]
  },
  {
   "cell_type": "code",
   "execution_count": null,
   "metadata": {},
   "outputs": [],
   "source": [
    "using PyPlot\n",
    "\n",
    "x = range(1, -1, length=100)\n",
    "y1 = (@∂ sin(x)).(x)\n",
    "y2 = (@∂ cosh(x)).(x)\n",
    "\n",
    "figure()\n",
    "PyPlot.plot(x, y1)\n",
    "PyPlot.plot(x, y2)\n",
    "show()"
   ]
  },
  {
   "cell_type": "markdown",
   "metadata": {},
   "source": [
    "And finally macros are great for extending the syntax of the language, e.g. introduce Domain Specific Languages, cf. UFL of FEniCS. Suppose we want to write many if-elif-elif-....elif statements. In LISP the corresponding function is `cond` "
   ]
  },
  {
   "cell_type": "code",
   "execution_count": null,
   "metadata": {},
   "outputs": [],
   "source": [
    "macro cond(cases...)\n",
    "    _cond(cases)\n",
    "end\n",
    "\n",
    "function _cond(cases)\n",
    "    @assert all(case -> length(case.args) == 2, cases)\n",
    "    pred, tvalue = first(cases).args\n",
    "        \n",
    "    if length(cases) == 1\n",
    "        return Expr(:if, pred, tvalue)\n",
    "    else\n",
    "        return Expr(:if, pred, tvalue, _cond(cases[2:end]))\n",
    "    end\n",
    "end"
   ]
  },
  {
   "cell_type": "code",
   "execution_count": null,
   "metadata": {},
   "outputs": [],
   "source": [
    "x = 1\n",
    "# Let's look at the code to be compiled\n",
    "# NOTE: this cannot be a function as functions arguments are evaluated at \n",
    "# call. What we would see is false, 6, true, 4 otherwise\n",
    "macroexpand(Main, :(@cond (10 < 2, x+5) (3 < 4, x-2)))"
   ]
  },
  {
   "cell_type": "code",
   "execution_count": null,
   "metadata": {},
   "outputs": [],
   "source": [
    "@cond (10 < 2, x+5) (3 < 4, x-2)"
   ]
  },
  {
   "cell_type": "markdown",
   "metadata": {},
   "source": [
    "Until this point we have generated code only using Expressions / by operating on AST / manipulating symbols. There is\n",
    "however an aditional stage where we can hook into the compiler - at this stage the types (of some) not the values of\n",
    "AST nodes are known. This makes it possible to generate code specialized based on type. This is an example of staged programming."
   ]
  },
  {
   "cell_type": "code",
   "execution_count": null,
   "metadata": {},
   "outputs": [],
   "source": [
    "# Let us define a type which we intend to represent a function approximated by polynomial of certain degree\n",
    "struct PolyF{N}\n",
    "    body::Function\n",
    "end"
   ]
  },
  {
   "cell_type": "code",
   "execution_count": null,
   "metadata": {},
   "outputs": [],
   "source": [
    "# evaluation\n",
    "(ff::PolyF{N} where N)(x::Real) = ff.body(x)\n"
   ]
  },
  {
   "cell_type": "code",
   "execution_count": null,
   "metadata": {},
   "outputs": [],
   "source": [
    "using LinearAlgebra\n",
    "\n",
    "function gauss_legendre(degree::Int)\n",
    "  #=\n",
    "  The implementation is based on eigenvalues of the matrix T that is similar to\n",
    "  the Jacobi matrix J. Both are tridiagonal but the T matrix is symmetric and\n",
    "  the main diagonal is 0.\n",
    "  =#\n",
    "  diag = zeros(degree)\n",
    "  up_diag = Float64[k/sqrt(4*k^2-1) for k=1:degree-1]\n",
    "  T = SymTridiagonal(diag, up_diag)\n",
    "  xq, ev = eigen(T)\n",
    "  wq = reshape(2*ev[1, :].^2, degree)\n",
    "  return xq, wq\n",
    "end\n",
    "\n",
    "gauss_legendre(1)"
   ]
  },
  {
   "cell_type": "code",
   "execution_count": null,
   "metadata": {},
   "outputs": [],
   "source": [
    "using Pkg\n",
    "Pkg.add(\"StaticArrays\")"
   ]
  },
  {
   "cell_type": "code",
   "execution_count": null,
   "metadata": {},
   "outputs": [],
   "source": [
    "using StaticArrays\n",
    "\n",
    "@generated function integrate(f::PolyF{N}) where N\n",
    "    # Lets generate the quadrature points and weights \n",
    "    Core.print(\"$N <<<\")\n",
    "    xq, wq = gauss_legendre(N)\n",
    "    size = length(xq)\n",
    "    # Other option\n",
    "    \n",
    "    wq = SVector{size, Float64}(wq)\n",
    "    quote\n",
    "        fxq = SVector{$(size), Float64}(f.($(xq)))\n",
    "        sum(fxq.*($(wq)))\n",
    "    end\n",
    "    #quote\n",
    "    #    sum(f.($(xq)).*$(wq))\n",
    "    #end\n",
    "end\n",
    "\n",
    "# FIXME: compare\n",
    "function integrate(f, N::Integer)\n",
    "    xq, wq = gauss_legendre(N)\n",
    "    size = length(xq)\n",
    "    sum(f.(xq).*wq)\n",
    "end"
   ]
  },
  {
   "cell_type": "code",
   "execution_count": null,
   "metadata": {},
   "outputs": [],
   "source": [
    "integrate(PolyF{10}(x -> cos(x)))"
   ]
  },
  {
   "cell_type": "code",
   "execution_count": null,
   "metadata": {},
   "outputs": [],
   "source": [
    "# JIT kicks in for new types, note new N(degree) implies new type\n",
    "@time integrate(PolyF{22}(x -> cos(x)))"
   ]
  },
  {
   "cell_type": "code",
   "execution_count": null,
   "metadata": {},
   "outputs": [],
   "source": [
    "# Call it again same degree - no JIT\n",
    "@time integrate(PolyF{22}(x -> cos(x)))"
   ]
  },
  {
   "cell_type": "code",
   "execution_count": null,
   "metadata": {},
   "outputs": [],
   "source": [
    "# And again, with diffrent body but same degre - no JIT\n",
    "@time integrate(PolyF{22}(x -> sin(x)))"
   ]
  },
  {
   "cell_type": "code",
   "execution_count": null,
   "metadata": {},
   "outputs": [],
   "source": [
    "N = 1000\n",
    "# Some speed difference shows for large N\n",
    "ans0 = @time integrate(cos, N)\n",
    "ans1 = @time integrate(PolyF{N}(x -> cos(x)))"
   ]
  }
 ],
 "metadata": {
  "kernelspec": {
   "display_name": "Julia 1.8.0-DEV",
   "language": "julia",
   "name": "julia-1.8"
  },
  "language_info": {
   "file_extension": ".jl",
   "mimetype": "application/julia",
   "name": "julia",
   "version": "1.8.0"
  }
 },
 "nbformat": 4,
 "nbformat_minor": 2
}
